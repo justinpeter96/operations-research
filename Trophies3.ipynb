{
 "cells": [
  {
   "cell_type": "code",
   "execution_count": 1,
   "metadata": {},
   "outputs": [
    {
     "ename": "LoadError",
     "evalue": "\u001b[91mArgumentError: Module NamedArrays not found in current path.\nRun `Pkg.add(\"NamedArrays\")` to install the NamedArrays package.\u001b[39m",
     "output_type": "error",
     "traceback": [
      "\u001b[91mArgumentError: Module NamedArrays not found in current path.\nRun `Pkg.add(\"NamedArrays\")` to install the NamedArrays package.\u001b[39m",
      "",
      "Stacktrace:",
      " [1] \u001b[1m_require\u001b[22m\u001b[22m\u001b[1m(\u001b[22m\u001b[22m::Symbol\u001b[1m)\u001b[22m\u001b[22m at \u001b[1m./loading.jl:435\u001b[22m\u001b[22m",
      " [2] \u001b[1mrequire\u001b[22m\u001b[22m\u001b[1m(\u001b[22m\u001b[22m::Symbol\u001b[1m)\u001b[22m\u001b[22m at \u001b[1m./loading.jl:405\u001b[22m\u001b[22m"
     ]
    }
   ],
   "source": [
    "# the types of trophies produced\n",
    "sports=[:football,:soccer]\n",
    "\n",
    "# ingredients involved\n",
    "ingredients=[:wood,:plaque,:brass_football,:brass_soccer]\n",
    "\n",
    "# profits returned (for each sport)\n",
    "profit=Dict(zip(sports, [12,9]))\n",
    "\n",
    "# quantities available (for each ingredient)\n",
    "quant_avail=Dict(zip(ingredients,[4800,1750,1000,1500]))\n",
    "\n",
    "# recipes (sport, ingredient)\n",
    "using NamedArrays\n",
    "recipe_mat=[4 1 1 0\n",
    "            2 1 0 1]\n",
    "recipe=NamedArray(recipe_mat,(sports, ingredients), (\"sport\",\"ingredient\",))\n",
    ";"
   ]
  },
  {
   "cell_type": "code",
   "execution_count": 2,
   "metadata": {},
   "outputs": [
    {
     "name": "stderr",
     "output_type": "stream",
     "text": [
      "\u001b[1m\u001b[36mINFO: \u001b[39m\u001b[22m\u001b[36mCloning cache of NamedArrays from https://github.com/davidavdav/NamedArrays.jl.git\n",
      "\u001b[39m\u001b[1m\u001b[36mINFO: \u001b[39m\u001b[22m\u001b[36mInstalling NamedArrays v0.7.0\n",
      "\u001b[39m\u001b[1m\u001b[36mINFO: \u001b[39m\u001b[22m\u001b[36mPackage database updated\n",
      "\u001b[39m\u001b[1m\u001b[36mINFO: \u001b[39m\u001b[22m\u001b[36mMETADATA is out-of-date — you may not have the latest version of NamedArrays\n",
      "\u001b[39m\u001b[1m\u001b[36mINFO: \u001b[39m\u001b[22m\u001b[36mUse `Pkg.update()` to get the latest versions of your packages\n",
      "\u001b[39m"
     ]
    }
   ],
   "source": [
    "Pkg.add(\"NamedArrays\")"
   ]
  },
  {
   "cell_type": "code",
   "execution_count": null,
   "metadata": {},
   "outputs": [],
   "source": []
  },
  {
   "cell_type": "code",
   "execution_count": 3,
   "metadata": {},
   "outputs": [
    {
     "name": "stderr",
     "output_type": "stream",
     "text": [
      "\u001b[1m\u001b[36mINFO: \u001b[39m\u001b[22m\u001b[36mPrecompiling module NamedArrays.\n",
      "\u001b[39m"
     ]
    }
   ],
   "source": [
    "# the types of trophies produced\n",
    "sports=[:football,:soccer]\n",
    "\n",
    "# ingredients involved\n",
    "ingredients=[:wood,:plaque,:brass_football,:brass_soccer]\n",
    "\n",
    "# profits returned (for each sport)\n",
    "profit=Dict(zip(sports, [12,9]))\n",
    "\n",
    "# quantities available (for each ingredient)\n",
    "quant_avail=Dict(zip(ingredients,[4800,1750,1000,1500]))\n",
    "\n",
    "# recipes (sport, ingredient)\n",
    "using NamedArrays\n",
    "recipe_mat=[4 1 1 0\n",
    "            2 1 0 1]\n",
    "recipe=NamedArray(recipe_mat,(sports, ingredients), (\"sport\",\"ingredient\",))\n",
    ";\n"
   ]
  },
  {
   "cell_type": "code",
   "execution_count": 4,
   "metadata": {},
   "outputs": [
    {
     "name": "stdout",
     "output_type": "stream",
     "text": [
      "trophies: 1 dimensions:\n",
      "[football] = 650.0\n",
      "[  soccer] = 1100.0\n",
      "Total profit is:$17700.0\n"
     ]
    }
   ],
   "source": [
    "using JuMP, Clp\n",
    "m=Model(solver=ClpSolver())\n",
    "\n",
    "@variable(m, trophies[sports]>=0)\n",
    "@expression(m,total_profit,sum(profit[s]*trophies[s] for s in sports))\n",
    "@constraint(m,constr[i in ingredients],sum(recipe[s,i]*trophies[s]for s in sports)<=quant_avail[i])\n",
    "@objective(m,Max,total_profit)\n",
    "\n",
    "solve(m)\n",
    "println(getvalue(trophies))\n",
    "println(\"Total profit is:\\$\",getvalue(total_profit))"
   ]
  },
  {
   "cell_type": "code",
   "execution_count": 5,
   "metadata": {},
   "outputs": [
    {
     "name": "stdout",
     "output_type": "stream",
     "text": [
      "trophies: 1 dimensions:\n",
      "[football] = 650.0\n",
      "[  soccer] = 1100.0\n",
      "Total profit is:$17700.0\n"
     ]
    }
   ],
   "source": [
    "# the types of trophies produced\n",
    "sports=[:football,:soccer]\n",
    "\n",
    "# ingredients involved\n",
    "ingredients=[:wood,:plaque,:brass_football,:brass_soccer]\n",
    "\n",
    "# profits returned (for each sport)\n",
    "profit=Dict(zip(sports, [12,9]))\n",
    "\n",
    "# quantities available (for each ingredient)\n",
    "quant_avail=Dict(zip(ingredients,[4800,1750,1000,1500]))\n",
    "\n",
    "# recipes (sport, ingredient)\n",
    "using NamedArrays\n",
    "recipe_mat=[4 1 1 0\n",
    "            2 1 0 1]\n",
    "recipe=NamedArray(recipe_mat,(sports, ingredients), (\"sport\",\"ingredient\",))\n",
    ";\n",
    "using JuMP, Clp\n",
    "m=Model(solver=ClpSolver())\n",
    "\n",
    "@variable(m, trophies[sports]>=0)\n",
    "@expression(m,total_profit,sum(profit[s]*trophies[s] for s in sports))\n",
    "@constraint(m,constr[i in ingredients],sum(recipe[s,i]*trophies[s]for s in sports)<=quant_avail[i])\n",
    "@objective(m,Max,total_profit)\n",
    "\n",
    "solve(m)\n",
    "println(getvalue(trophies))\n",
    "println(\"Total profit is:\\$\",getvalue(total_profit))"
   ]
  },
  {
   "cell_type": "code",
   "execution_count": null,
   "metadata": {},
   "outputs": [],
   "source": []
  }
 ],
 "metadata": {
  "kernelspec": {
   "display_name": "Julia 0.6.3",
   "language": "julia",
   "name": "julia-0.6"
  },
  "language_info": {
   "file_extension": ".jl",
   "mimetype": "application/julia",
   "name": "julia",
   "version": "0.6.3"
  }
 },
 "nbformat": 4,
 "nbformat_minor": 2
}
