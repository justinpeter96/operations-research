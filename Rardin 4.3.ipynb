{
 "cells": [
  {
   "cell_type": "code",
   "execution_count": 1,
   "metadata": {},
   "outputs": [
    {
     "name": "stdout",
     "output_type": "stream",
     "text": [
      "Min 200 A + 150 B + 100 C + 75 D\n",
      "Subject to\n",
      " A ≥ 0\n",
      " B ≥ 0\n",
      " C ≥ 0\n",
      " D ≥ 0\n",
      " A + B + C + D = 1\n",
      " 0.5 A + 0.7 B + 0.4 C + D ≤ 0.6\n",
      " 0.9 A + 0.3 B + 0.6 C + 0.8 D ≥ 0.6\n",
      " 0.6 A + 0.8 B + 0.55 C + 0.4 D ≥ 0.6\n",
      " A\n",
      " B\n",
      " C\n",
      " D\n",
      "\n",
      "Optimal\n",
      "\n",
      "A=0.16666666666666674\n",
      "B=0.16666666666666666\n",
      "C=0.6666666666666666\n",
      "D=-0.0\n",
      "objective=125.0\n"
     ]
    }
   ],
   "source": [
    "using JuMP, Clp\n",
    "m=Model(solver=ClpSolver())\n",
    "@variable(m, A)\n",
    "@variable(m, B)\n",
    "@variable(m, C)\n",
    "@variable(m, D)\n",
    "@constraint(m, A>=0)\n",
    "@constraint(m, B>=0)\n",
    "@constraint(m, C>=0)\n",
    "@constraint(m, D>=0)\n",
    "@constraint(m, A+B+C+D==1)\n",
    "@constraint(m, 0.5A+0.7B+0.4C+D<=0.6)\n",
    "@constraint(m, 0.9A+0.3B+0.6C+0.8D>=0.6)\n",
    "@constraint(m, 0.6A+0.8B+0.55C+0.4D>=0.6)\n",
    "@objective(m, Min, 200A+150B+100C+75D)\n",
    "\n",
    "status=solve(m)\n",
    "\n",
    "println(m)\n",
    "println(status)\n",
    "println()\n",
    "println(\"A=\", getvalue(A))\n",
    "println(\"B=\", getvalue(B))\n",
    "println(\"C=\", getvalue(C))\n",
    "println(\"D=\", getvalue(D))\n",
    "println(\"objective=\", getobjectivevalue(m))\n"
   ]
  },
  {
   "cell_type": "code",
   "execution_count": null,
   "metadata": {},
   "outputs": [],
   "source": []
  }
 ],
 "metadata": {
  "kernelspec": {
   "display_name": "Julia 0.6.3",
   "language": "julia",
   "name": "julia-0.6"
  },
  "language_info": {
   "file_extension": ".jl",
   "mimetype": "application/julia",
   "name": "julia",
   "version": "0.6.3"
  }
 },
 "nbformat": 4,
 "nbformat_minor": 2
}
