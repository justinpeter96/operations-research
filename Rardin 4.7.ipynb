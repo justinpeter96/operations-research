{
 "cells": [
  {
   "cell_type": "code",
   "execution_count": 1,
   "metadata": {},
   "outputs": [
    {
     "name": "stdout",
     "output_type": "stream",
     "text": [
      "Min 34 a + 22 b + 27 c\n",
      "Subject to\n",
      " a ≥ 0\n",
      " b ≥ 0\n",
      " c ≥ 0\n",
      " 2 a + c ≥ 37\n",
      " 5 b + 2 c ≥ 211\n",
      " a\n",
      " b\n",
      " c\n",
      "\n",
      "Optimal\n",
      "\n",
      "a=18.5\n",
      "b=42.2\n",
      "c=-0.0\n",
      "objective=1557.4\n"
     ]
    }
   ],
   "source": [
    "using JuMP, Clp\n",
    "m=Model(solver=ClpSolver())\n",
    "@variable(m, a)\n",
    "@variable(m, b)\n",
    "@variable(m, c)\n",
    "@constraint(m, a>=0)\n",
    "@constraint(m, b>=0)\n",
    "@constraint(m, c>=0)\n",
    "@constraint(m, 2a+c>=37)\n",
    "@constraint(m, 5b+2c>=211)\n",
    "@objective(m, Min, 34a+22b+27c)\n",
    "\n",
    "status=solve(m)\n",
    "\n",
    "println(m)\n",
    "println(status)\n",
    "println()\n",
    "println(\"a=\", getvalue(a))\n",
    "println(\"b=\", getvalue(b))\n",
    "println(\"c=\", getvalue(c))\n",
    "println(\"objective=\", getobjectivevalue(m))"
   ]
  },
  {
   "cell_type": "code",
   "execution_count": null,
   "metadata": {},
   "outputs": [],
   "source": []
  }
 ],
 "metadata": {
  "kernelspec": {
   "display_name": "Julia 0.6.3",
   "language": "julia",
   "name": "julia-0.6"
  },
  "language_info": {
   "file_extension": ".jl",
   "mimetype": "application/julia",
   "name": "julia",
   "version": "0.6.3"
  }
 },
 "nbformat": 4,
 "nbformat_minor": 2
}
